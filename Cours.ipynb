{
 "cells": [
  {
   "cell_type": "markdown",
   "metadata": {},
   "source": [
    "# Clustering"
   ]
  },
  {
   "cell_type": "markdown",
   "metadata": {},
   "source": [
    "En Data Science , nous réfléchissons souvent à la manière d'utiliser les données pour faire des prédictions sur de nouvelles de données. C'est ce qu'on appelle «l'apprentissage supervisé». Parfois, plutôt que de «faire des prédictions», nous souhaitons plutôt classer les données dans des compartiments. Ceci est appelé «apprentissage non supervisé».\n",
    "\n",
    "Pour illustrer la différence, disons que nous sommes dans une grande chaîne de pizzas et que nous avons été chargés de créer une fonctionnalité dans le logiciel de gestion des commandes qui prédira les délais de livraison pour les clients. Pour ce faire, nous recevons un ensemble de données contenant les délais de livraison, les distances parcourues, le jour de la semaine, l'heure de la journée, le personnel disponible et le volume des ventes pour plusieurs livraisons dans le passé. À partir de ces données, nous pouvons faire des prévisions sur les délais de livraison futurs. Ceci est un bon exemple d'apprentissage supervisé.\n",
    "\n",
    "Désormais, disons que la chaîne de pizzas souhaite envoyer des coupons ciblés aux clients. Il souhaite segmenter ses clients en 4 groupes: familles nombreuses, petites familles, célibataires et étudiants. Nous recevons des données de commande préalables (par exemple, la taille de la commande, le prix, la fréquence, etc.) et nous sommes chargés de placer chaque client dans l'un des quatre groupes. Ce serait un exemple d '«apprentissage non supervisé» puisque nous ne faisons pas de prédictions; nous catégorisons simplement les clients en groupes.\n",
    "\n",
    "\n",
    "<!--\n",
    "*    Affinity Propagation\n",
    "*    Agglomerative Clustering\n",
    "*    BIRCH\n",
    "*    DBSCAN\n",
    "*    K-Means\n",
    "*    Mini-Batch K-Means\n",
    "*    Mean Shift\n",
    "*    OPTICS\n",
    "*    Spectral Clustering\n",
    "*    Mixture of Gaussians\n",
    "-->\n",
    "Nous allons voir dans ce cours l'algorithme des _K-means_ qui  est l'un des algos les plus utilisés"
   ]
  },
  {
   "cell_type": "markdown",
   "metadata": {},
   "source": [
    "<br>"
   ]
  },
  {
   "cell_type": "markdown",
   "metadata": {},
   "source": [
    "# K-Means Clustering "
   ]
  },
  {
   "cell_type": "markdown",
   "metadata": {},
   "source": [
    "<!--L'algorithme $K$-means divise un ensemble de $N$ échantillons $X$ en $K$ clusters disjoints $C$, chacun étant décrit par la moyenne $\\mu_j$ des échantillons du cluster. Les moyens sont communément appelés les «centroïdes» de cluster; notez qu'ils ne sont pas, en général, des points de $X$, bien qu'ils vivent dans le même espace. L'algorithme $K$-means vise à choisir des centres de gravité qui minimisent l'inertie, ou somme intra-cluster du critère au carré:\n",
    "$$\\sum_{i=0}^n min_{\\mu_j\\in c}(|| x_j - \\mu_i||^2)$$\n",
    "\n",
    "\n",
    "**Comment fonctionne l'algorithme**\n",
    "\n",
    "L'algorithme de clustering-means utilise un raffinement itératif pour produire un résultat final. Les entrées de l'algorithme sont le nombre de clusters $ Κ $ et l'ensemble de données. L'ensemble de données est un ensemble d'entités pour chaque point de données. Les algorithmes commencent par des estimations initiales pour les centroïdes $Κ$, qui peuvent être générés aléatoirement ou sélectionnés au hasard dans l'ensemble de données. L'algorithme effectue ensuite une itération entre deux étapes:\n",
    "\n",
    "**Étape d'assignation des données**: chaque centroïde définit l'un des clusters. Dans cette étape, chaque point de données est affecté à son centre de gravité le plus proche, en fonction de la distance euclidienne au carré. Plus formellement, si $c_i$ est la collection de centroïdes dans l'ensemble $C$, alors chaque point de données $x$ est affecté à un cluster basé sur\n",
    "\n",
    "$$argmin_{c_i \\in c} dist(c_i,x)^2$$\n",
    "\n",
    "où *dist(·)* est la distance euclidienne standard ( $L_2$). Soit $S_i$ l'ensemble des affectations de points de données pour chaque ième centre de gravité du cluster.\n",
    "\n",
    "**Étape de mise à jour du centre de gravité**: dans cette étape, les centres de gravité sont recalculés. Cela se fait en prenant la moyenne de tous les points de données affectés au cluster de ce centre de gravité.\n",
    "$$c_i = \\frac{1}{[S_i|}\\sum_{x_i \\in S_i}x_i$$\n",
    "\n",
    "\n",
    "L'algorithme itère entre les étapes un et deux jusqu'à ce qu'un critère d'arrêt soit satisfait (c'est-à-dire qu'aucun point de données ne change de grappes, la somme des distances est minimisée ou un certain nombre maximal d'itérations est atteint).\n",
    "\n",
    "**Convergence et initialisation aléatoire**\n",
    "\n",
    "Cet algorithme est garanti pour converger vers un résultat. Le résultat peut être un optimum local (c'est-à-dire pas nécessairement le meilleur résultat possible), ce qui signifie que l'évaluation de plus d'une exécution de l'algorithme avec des centroïdes de départ aléatoires peut donner un meilleur résultat.\n",
    "-->\n",
    "\n",
    "<img src = \"images/kmeans.gif\">"
   ]
  },
  {
   "cell_type": "markdown",
   "metadata": {},
   "source": [
    "# Evaluation de performance"
   ]
  },
  {
   "cell_type": "markdown",
   "metadata": {},
   "source": [
    "Il existe différentes fonctions à l'aide desquelles nous pouvons évaluer les performances des algorithmes de clustering.\n",
    "Voici quelques fonctions importantes et principalement utilisées fournies par Scikit-learn pour évaluer les performances de clustering"
   ]
  },
  {
   "cell_type": "markdown",
   "metadata": {},
   "source": [
    "### Adjusted Rand Index"
   ]
  },
  {
   "cell_type": "markdown",
   "metadata": {},
   "source": [
    "Rand Index est une fonction qui calcule une mesure de similarité entre deux regroupements. Pour ce calcul, Rand Index considère toutes les paires d'échantillons et les paires de comptage qui sont attribuées dans les clusters similaires ou différents dans le clustering prédit et vrai. Ensuite, le score brut de Rand Index est «ajusté en fonction du hasard» dans le score de Rand Index ajusté en utilisant la formule suivante:\n",
    "\n",
    "$$AdjustedRI = (RI-ExpectedRI)/(max(RI)-ExpectedRI)$$\n",
    "\n",
    "Il a deux paramètres à savoir **labels_true**, qui sont des étiquettes des **ground truth** classe, et **labels_pred**, qui sont des étiquettes de clusters à évaluer."
   ]
  },
  {
   "cell_type": "markdown",
   "metadata": {},
   "source": [
    "### Silhouette Coefficient"
   ]
  },
  {
   "cell_type": "markdown",
   "metadata": {},
   "source": [
    "La fonction Silhouette calculera le coefficient de silhouette moyen de tous les échantillons en utilisant la distance moyenne intra-cluster et la distance moyenne du cluster le plus proche pour chaque échantillon.\n",
    "$$S = (b-a)/max(a,b)$$\n",
    "\n",
    "Ici, **a** est la distance intra-cluster.\n",
    "\n",
    "et **b** est la distance moyenne du groupe le plus proche."
   ]
  },
  {
   "cell_type": "markdown",
   "metadata": {},
   "source": [
    "### Matrice de contingence"
   ]
  },
  {
   "cell_type": "markdown",
   "metadata": {},
   "source": [
    "Cette matrice indiquera la cardinalité d'intersection pour chaque paire de confiance de (vrai, prédit). La matrice de confusion pour les problèmes de classification est une matrice de contingence carrée."
   ]
  },
  {
   "cell_type": "markdown",
   "metadata": {},
   "source": [
    "### Fowlkes-Mallows Score"
   ]
  },
  {
   "cell_type": "markdown",
   "metadata": {},
   "source": [
    "La fonction Fowlkes-Mallows mesure la similitude de deux regroupements d'un ensemble de points. Elle peut être définie comme la moyenne géométrique de la précision et du rappel par paires.\n",
    "\n",
    "Mathématiquement\n",
    "\n",
    "$$FMS = \\frac{TP}{\\sqrt{(TP+FP)(TP+FN)}}$$\n",
    "\n",
    "Ici, **TP = True Positive** - nombre de paires de points appartenant aux mêmes clusters en vrai ainsi que les étiquettes prédites à la fois.\n",
    "\n",
    "**FP = False Positive** - nombre de paires de points appartenant aux mêmes clusters dans les étiquettes vraies mais pas dans les étiquettes prédites.\n",
    "\n",
    "**FN = False Negative** - nombre de paires de points appartenant aux mêmes clusters dans les étiquettes prédites mais pas dans les vraies étiquettes."
   ]
  },
  {
   "cell_type": "markdown",
   "metadata": {},
   "source": [
    "<br><br>\n",
    "## Application"
   ]
  },
  {
   "cell_type": "markdown",
   "metadata": {},
   "source": [
    "<br>\n",
    "<br>\n",
    "\n",
    "Voyons comment fonctionne le clustering _k-means_. Nous allons utiliser Blobby, plus exactement la fonction **make_blobs** dans la bibliothèque d'apprentissage **_sci-kit_**. Nous allons créer quatre clusters aléatoires à l'aide de **_make_blobs_**."
   ]
  },
  {
   "cell_type": "code",
   "execution_count": 4,
   "metadata": {},
   "outputs": [
    {
     "ename": "ModuleNotFoundError",
     "evalue": "No module named 'seaborn'",
     "output_type": "error",
     "traceback": [
      "\u001b[0;31m---------------------------------------------------------------------------\u001b[0m",
      "\u001b[0;31mModuleNotFoundError\u001b[0m                       Traceback (most recent call last)",
      "\u001b[0;32m<ipython-input-4-5c6271e1affe>\u001b[0m in \u001b[0;36m<module>\u001b[0;34m\u001b[0m\n\u001b[1;32m      1\u001b[0m \u001b[0mget_ipython\u001b[0m\u001b[0;34m(\u001b[0m\u001b[0;34m)\u001b[0m\u001b[0;34m.\u001b[0m\u001b[0mrun_line_magic\u001b[0m\u001b[0;34m(\u001b[0m\u001b[0;34m'matplotlib'\u001b[0m\u001b[0;34m,\u001b[0m \u001b[0;34m'inline'\u001b[0m\u001b[0;34m)\u001b[0m\u001b[0;34m\u001b[0m\u001b[0;34m\u001b[0m\u001b[0m\n\u001b[1;32m      2\u001b[0m \u001b[0;32mimport\u001b[0m \u001b[0mmatplotlib\u001b[0m\u001b[0;34m.\u001b[0m\u001b[0mpyplot\u001b[0m \u001b[0;32mas\u001b[0m \u001b[0mplt\u001b[0m\u001b[0;34m\u001b[0m\u001b[0;34m\u001b[0m\u001b[0m\n\u001b[0;32m----> 3\u001b[0;31m \u001b[0;32mimport\u001b[0m \u001b[0mseaborn\u001b[0m \u001b[0;32mas\u001b[0m \u001b[0msns\u001b[0m\u001b[0;34m\u001b[0m\u001b[0;34m\u001b[0m\u001b[0m\n\u001b[0m\u001b[1;32m      4\u001b[0m \u001b[0;32mimport\u001b[0m \u001b[0mnumpy\u001b[0m \u001b[0;32mas\u001b[0m \u001b[0mnp\u001b[0m\u001b[0;34m\u001b[0m\u001b[0;34m\u001b[0m\u001b[0m\n",
      "\u001b[0;31mModuleNotFoundError\u001b[0m: No module named 'seaborn'"
     ]
    }
   ],
   "source": [
    "%matplotlib inline\n",
    "import matplotlib.pyplot as plt\n",
    "import seaborn as sns\n",
    "import numpy as np"
   ]
  },
  {
   "cell_type": "markdown",
   "metadata": {},
   "source": [
    "L'algorithme **k-means** recherche un nombre prédéterminé de clusters dans un ensemble de données multidimensionnel non étiqueté. Il accomplit cela en utilisant une conception simple de ce à quoi ressemble le clustering optimal:\n",
    "\n",
    "*     Le «centre du cluster» est la moyenne arithmétique de tous les points appartenant au cluster.\n",
    "*     Chaque point est plus proche de son propre centre de cluster que des autres centres de cluster.\n",
    "\n",
    "Ces deux hypothèses sont à la base du modèle des k-means. Nous allons bientôt nous plonger dans la manière exacte dont l'algorithme atteint cette solution, mais pour l'instant, jetons un coup d'œil à un jeu de données simple et voyons le résultat k-means.\n",
    "\n",
    "Tout d'abord, générons un jeu de données bidimensionnel contenant quatre blobs distincts. Pour souligner qu'il s'agit d'un algorithme non supervisé, nous allons laisser les étiquettes en dehors de la visualisation"
   ]
  },
  {
   "cell_type": "code",
   "execution_count": 5,
   "metadata": {},
   "outputs": [],
   "source": [
    "from sklearn.datasets.samples_generator import make_blobs \n",
    "X,y_true = make_blobs(n_samples=500, centers=4,  cluster_std=0.6, random_state=0)"
   ]
  },
  {
   "cell_type": "code",
   "execution_count": 6,
   "metadata": {
    "collapsed": true,
    "jupyter": {
     "outputs_hidden": true
    }
   },
   "outputs": [
    {
     "data": {
      "text/plain": [
       "array([[ 2.40238042e+00,  1.10745633e+00],\n",
       "       [ 3.43761754e+00,  2.61654166e-01],\n",
       "       [ 1.00372519e+00,  4.19147702e+00],\n",
       "       [ 2.82560619e-01,  4.77250619e+00],\n",
       "       [ 1.27135141e+00,  1.89254207e+00],\n",
       "       [-1.58113322e+00,  3.73844061e+00],\n",
       "       [-3.20150004e-01,  2.89112501e+00],\n",
       "       [ 7.43873988e-01,  4.12240568e+00],\n",
       "       [ 1.36034899e+00,  3.33361370e+00],\n",
       "       [-1.11142378e+00,  7.95634798e+00],\n",
       "       [-1.92293781e+00,  3.02337363e+00],\n",
       "       [ 1.74475610e+00,  3.10365744e-01],\n",
       "       [-1.06328711e+00,  1.92092329e+00],\n",
       "       [-9.83636030e-01,  7.94273574e+00],\n",
       "       [ 1.54592256e+00,  4.35631807e+00],\n",
       "       [ 1.15521298e+00,  5.09961887e+00],\n",
       "       [ 2.57664561e+00,  1.06378680e+00],\n",
       "       [ 7.89338559e-01,  4.33748653e+00],\n",
       "       [-1.75724809e+00,  7.64005833e+00],\n",
       "       [ 1.01618041e+00,  4.48527047e+00],\n",
       "       [ 3.55724373e-01,  4.71274404e+00],\n",
       "       [ 2.69637316e+00,  6.25632178e-01],\n",
       "       [-1.75199228e+00,  2.18216455e+00],\n",
       "       [-1.69806998e+00,  7.85514526e+00],\n",
       "       [ 1.07017400e+00,  4.44309595e+00],\n",
       "       [-1.11182011e+00,  7.22541683e+00],\n",
       "       [ 1.84320847e+00, -7.22208533e-02],\n",
       "       [-1.39519828e+00,  3.15372002e+00],\n",
       "       [-4.07448876e-01,  7.58923094e+00],\n",
       "       [-2.72943344e+00,  3.14400817e+00],\n",
       "       [-2.01027992e+00,  2.24689511e+00],\n",
       "       [-2.39386813e+00,  2.19155646e+00],\n",
       "       [ 2.51921931e+00,  1.87335276e-01],\n",
       "       [-9.13829662e-01,  2.58635786e+00],\n",
       "       [-1.31404940e+00,  3.28801419e+00],\n",
       "       [ 2.62109517e+00, -7.46142640e-01],\n",
       "       [-1.75980728e+00,  7.84923587e+00],\n",
       "       [ 5.40911651e-01,  3.47376895e+00],\n",
       "       [-2.23403495e+00,  7.59181694e+00],\n",
       "       [ 2.45509737e+00,  6.21231788e-01],\n",
       "       [-2.02746781e+00,  8.60110522e+00],\n",
       "       [ 2.10616050e+00,  3.49513189e+00],\n",
       "       [ 4.28576743e-01,  4.97399710e+00],\n",
       "       [ 2.84674965e+00,  3.68212369e-01],\n",
       "       [-1.83141457e+00,  2.28675420e+00],\n",
       "       [ 2.58076718e+00,  8.28599179e-01],\n",
       "       [ 1.35140895e+00,  3.34255273e+00],\n",
       "       [ 1.32222457e+00,  4.17880807e+00],\n",
       "       [ 1.43730635e+00,  6.87697641e-01],\n",
       "       [ 1.84679713e+00,  5.48902574e-01],\n",
       "       [-1.23561856e+00,  7.89513269e+00],\n",
       "       [-9.65995888e-01,  8.02232826e+00],\n",
       "       [-1.92078222e+00,  1.21714956e+00],\n",
       "       [ 7.63873732e-01,  3.47881655e+00],\n",
       "       [ 9.35325115e-01,  5.33179296e+00],\n",
       "       [-6.73113915e-01,  3.15553421e+00],\n",
       "       [-1.12456174e+00,  2.49337884e+00],\n",
       "       [-1.81674893e+00,  7.98212609e+00],\n",
       "       [ 3.08398978e-01,  7.59304064e+00],\n",
       "       [ 2.02784515e+00,  1.02996825e+00],\n",
       "       [ 1.97720335e+00,  9.54035598e-01],\n",
       "       [-1.50305376e+00,  7.33748126e+00],\n",
       "       [ 1.94087543e+00,  6.60753952e-01],\n",
       "       [ 1.79175381e+00,  1.00646672e+00],\n",
       "       [ 1.69607516e+00,  2.28125468e-01],\n",
       "       [-2.94540830e+00,  2.93008277e+00],\n",
       "       [ 2.24592863e-01,  4.77028154e+00],\n",
       "       [ 2.08496451e+00,  1.19396573e+00],\n",
       "       [ 9.66057830e-01,  4.53127837e+00],\n",
       "       [-2.33565927e+00,  2.46093823e+00],\n",
       "       [-9.67224634e-01,  8.87698741e+00],\n",
       "       [ 1.87271752e+00,  4.18069237e+00],\n",
       "       [-1.24091658e+00,  8.77701578e+00],\n",
       "       [ 1.88986520e+00,  4.71826880e-01],\n",
       "       [-6.71839736e-01,  8.63289772e+00],\n",
       "       [ 1.89462740e+00,  2.20856861e-01],\n",
       "       [-1.41654872e+00,  2.68658841e+00],\n",
       "       [-1.75902652e+00,  2.61170662e+00],\n",
       "       [ 1.86725632e-01,  4.02683656e+00],\n",
       "       [ 4.53791789e-01,  3.95647753e+00],\n",
       "       [-1.25494314e+00,  7.84235936e+00],\n",
       "       [ 9.61674404e-01,  3.86096878e+00],\n",
       "       [-1.72362777e+00,  7.51649647e+00],\n",
       "       [ 6.69786996e-01,  3.59540802e+00],\n",
       "       [ 8.15468056e-01,  4.78526116e+00],\n",
       "       [-1.65862863e+00,  2.26746029e+00],\n",
       "       [-1.79972384e+00,  7.95111233e+00],\n",
       "       [-6.41150315e-01,  7.44068939e+00],\n",
       "       [ 2.71543812e+00,  1.67647684e+00],\n",
       "       [-1.21231896e+00,  7.70794619e+00],\n",
       "       [-1.22989468e+00,  7.79367507e+00],\n",
       "       [-1.22439573e+00,  6.89526319e+00],\n",
       "       [ 1.86979885e+00,  7.57583663e-01],\n",
       "       [-1.28273749e+00,  7.60072978e+00],\n",
       "       [ 7.34363910e-01,  5.03725437e+00],\n",
       "       [ 7.54760976e-01,  4.16015982e+00],\n",
       "       [ 1.47260478e+00,  1.08655398e+00],\n",
       "       [ 1.77394901e+00, -4.23201111e-01],\n",
       "       [ 2.11390250e+00,  1.24743587e+00],\n",
       "       [ 4.02703078e-01,  4.09619826e+00],\n",
       "       [-1.02874650e+00,  8.61415518e+00],\n",
       "       [-1.70552448e+00,  7.30279193e+00],\n",
       "       [ 1.00173317e+00,  1.16822434e+00],\n",
       "       [-4.17098847e-01,  7.65360106e+00],\n",
       "       [ 7.02950576e-01,  4.31427482e+00],\n",
       "       [ 9.82570091e-01,  5.37530962e+00],\n",
       "       [-2.00010557e+00,  3.57466529e+00],\n",
       "       [ 1.62350489e+00,  4.09867867e-01],\n",
       "       [ 5.93807863e-01,  4.06542424e+00],\n",
       "       [-1.39305845e+00,  7.30854581e+00],\n",
       "       [-1.28340771e+00,  7.64493416e+00],\n",
       "       [-1.03929959e+00,  3.27023789e+00],\n",
       "       [-1.10450612e+00,  7.61357932e+00],\n",
       "       [-1.38174198e+00,  7.32010807e+00],\n",
       "       [ 1.66013574e+00,  5.89123280e-01],\n",
       "       [-1.56774973e+00,  8.22249318e+00],\n",
       "       [ 1.71368029e+00,  1.05960627e+00],\n",
       "       [ 1.89593761e+00,  5.18540259e+00],\n",
       "       [-2.32623101e+00,  1.73670745e+00],\n",
       "       [ 2.27776252e+00,  9.82900743e-01],\n",
       "       [ 4.43598630e-01,  3.11530945e+00],\n",
       "       [-1.36729511e+00,  7.89197540e+00],\n",
       "       [ 1.93112532e+00,  1.42577101e+00],\n",
       "       [ 1.67841499e+00,  6.09047389e-01],\n",
       "       [-9.49424332e-01,  7.81974467e+00],\n",
       "       [ 1.86873582e+00,  9.56103760e-01],\n",
       "       [ 2.36960214e+00,  9.50716912e-01],\n",
       "       [ 2.02996465e+00,  7.25531345e-01],\n",
       "       [ 3.22881491e+00,  1.13171965e+00],\n",
       "       [-3.98196818e-02,  7.65140055e+00],\n",
       "       [ 1.43934441e+00,  4.79788982e+00],\n",
       "       [-5.55745356e-01,  7.93896267e+00],\n",
       "       [-1.94470001e+00,  2.74364400e+00],\n",
       "       [-4.01552536e-01,  8.30694231e+00],\n",
       "       [-7.30143980e-01,  7.35260777e+00],\n",
       "       [-2.12529539e+00,  7.42539616e+00],\n",
       "       [ 1.54462126e+00,  4.21078127e+00],\n",
       "       [ 2.32971689e+00,  3.18896452e-01],\n",
       "       [ 4.09602325e-01,  4.05775751e+00],\n",
       "       [-9.06258081e-01,  2.32015468e+00],\n",
       "       [ 3.67300195e+00,  8.53308860e-01],\n",
       "       [ 1.69747910e+00,  8.66123282e-01],\n",
       "       [ 1.63244736e+00,  1.46362009e+00],\n",
       "       [ 3.04414848e+00,  9.96200313e-01],\n",
       "       [-1.60604920e+00,  3.16073935e+00],\n",
       "       [-1.41411548e+00,  7.67971383e+00],\n",
       "       [ 1.65225163e+00,  3.65582842e+00],\n",
       "       [ 1.68353782e+00,  4.19583243e+00],\n",
       "       [-1.24720416e+00,  2.69573680e+00],\n",
       "       [-1.70297829e+00,  7.80540956e+00],\n",
       "       [-6.29992814e-01,  6.60706585e+00],\n",
       "       [ 2.93521475e+00,  1.40919482e+00],\n",
       "       [ 3.13640075e-01,  4.33508638e+00],\n",
       "       [ 1.41372442e+00,  4.38117707e+00],\n",
       "       [ 7.15177948e-01,  5.41334556e+00],\n",
       "       [-1.80892374e+00,  2.78784338e+00],\n",
       "       [-1.20091688e+00,  3.18130804e+00],\n",
       "       [ 1.79071394e+00,  7.29450363e-01],\n",
       "       [-9.89747849e-01,  3.74286070e+00],\n",
       "       [ 2.13003529e+00,  5.19209620e+00],\n",
       "       [ 1.98436909e+00,  4.89556738e-01],\n",
       "       [ 1.44806686e+00,  4.02393587e+00],\n",
       "       [ 2.96726444e+00,  1.92941724e+00],\n",
       "       [ 1.64003761e+00,  1.81948989e+00],\n",
       "       [-1.66145937e+00,  2.73653242e+00],\n",
       "       [-1.58951011e+00,  2.32508110e+00],\n",
       "       [ 2.57282513e+00, -6.95707796e-01],\n",
       "       [ 1.29023607e+00,  4.20085953e+00],\n",
       "       [-1.56941787e+00,  7.85070314e+00],\n",
       "       [-1.38163324e+00,  2.38465011e+00],\n",
       "       [ 2.22353254e+00,  3.01789493e-01],\n",
       "       [-9.30828632e-01,  8.08903719e+00],\n",
       "       [ 2.56024628e+00,  7.47988512e-01],\n",
       "       [-1.64864212e+00,  2.85195259e+00],\n",
       "       [ 4.88382309e-01,  3.26801777e+00],\n",
       "       [-1.85235483e+00,  8.84440605e+00],\n",
       "       [ 9.52700388e-01,  3.60293123e+00],\n",
       "       [-1.11290678e+00,  8.66894721e+00],\n",
       "       [-1.75929329e+00,  8.92909418e+00],\n",
       "       [-9.43912404e-01,  7.76572220e+00],\n",
       "       [ 2.44125620e+00, -4.47103852e-02],\n",
       "       [ 2.71307563e+00,  7.57134179e-01],\n",
       "       [ 8.36856841e-01,  2.13635938e+00],\n",
       "       [ 2.27421165e+00,  5.10570410e+00],\n",
       "       [-1.40812364e+00,  3.56704339e+00],\n",
       "       [-6.86416649e-01,  7.52007566e+00],\n",
       "       [-2.25766712e+00,  2.73490408e+00],\n",
       "       [ 2.47434181e+00,  8.99926193e-01],\n",
       "       [-2.37048176e+00,  2.56384767e+00],\n",
       "       [-1.45703289e+00,  7.02342670e+00],\n",
       "       [ 1.83645139e+00,  9.91685973e-01],\n",
       "       [-2.08499791e+00,  2.81072881e+00],\n",
       "       [-6.64734301e-01,  9.11578096e+00],\n",
       "       [-2.09352511e+00,  3.06074415e+00],\n",
       "       [-1.66046742e+00,  2.37003473e+00],\n",
       "       [-1.64301143e+00,  8.41678960e+00],\n",
       "       [ 2.33185545e+00,  4.27843304e+00],\n",
       "       [-1.98632533e+00,  3.25135444e+00],\n",
       "       [ 7.67522789e-01,  4.39759671e+00],\n",
       "       [-1.46728890e+00,  6.76066349e+00],\n",
       "       [-1.76363921e+00,  7.29609472e+00],\n",
       "       [ 6.98112494e-01,  4.59267621e+00],\n",
       "       [-1.88729855e+00,  3.84922817e+00],\n",
       "       [-1.75769127e+00,  2.65158061e+00],\n",
       "       [ 1.06269622e+00,  5.17635143e+00],\n",
       "       [-4.73912321e-01,  2.83808921e+00],\n",
       "       [-1.85433120e+00,  1.78713075e+00],\n",
       "       [ 6.77450608e-01,  5.46150656e+00],\n",
       "       [-1.39259788e+00,  3.11565605e+00],\n",
       "       [-8.79985631e-01,  1.38237146e+00],\n",
       "       [-1.54095788e+00,  3.56539910e+00],\n",
       "       [ 1.44444240e+00,  8.50950806e-01],\n",
       "       [ 4.59764179e-01,  1.26145537e+00],\n",
       "       [ 2.46915842e+00,  1.67877140e+00],\n",
       "       [ 2.77180174e-01,  4.84428322e+00],\n",
       "       [ 2.07844585e+00, -9.63654015e-02],\n",
       "       [-1.25463487e+00,  1.82003801e+00],\n",
       "       [-1.64888795e+00,  8.03163757e+00],\n",
       "       [-4.25662371e-01,  7.52955407e+00],\n",
       "       [-1.50164467e+00,  7.89828843e+00],\n",
       "       [ 1.21387411e+00,  3.64795042e+00],\n",
       "       [ 2.73242396e+00,  1.19526423e+00],\n",
       "       [-2.29471752e+00,  2.56662354e+00],\n",
       "       [-1.75086260e+00,  7.48075015e+00],\n",
       "       [-1.42854687e+00,  2.97567507e+00],\n",
       "       [ 1.97504659e+00,  1.54430994e+00],\n",
       "       [-1.38501027e-01,  7.70696002e+00],\n",
       "       [ 2.09680545e+00,  4.84741412e+00],\n",
       "       [-1.20350393e+00,  7.18920057e+00],\n",
       "       [-1.84652569e+00,  3.57233210e+00],\n",
       "       [-1.73465368e+00,  2.44110047e+00],\n",
       "       [-1.33660764e+00,  3.22990663e+00],\n",
       "       [-2.08657744e+00,  3.66387389e+00],\n",
       "       [-2.53563494e+00,  2.38449945e+00],\n",
       "       [ 4.59534668e-01,  5.44982630e+00],\n",
       "       [ 4.88251523e-01,  3.42393273e+00],\n",
       "       [ 1.71444449e+00,  5.02521524e+00],\n",
       "       [-2.08654856e+00,  2.16004125e+00],\n",
       "       [-8.33998360e-01,  8.31346328e+00],\n",
       "       [ 2.22707373e+00,  1.26296996e+00],\n",
       "       [ 1.96066731e+00,  2.25169776e+00],\n",
       "       [-1.12102757e+00,  2.68867689e+00],\n",
       "       [-1.32855796e+00,  3.48743015e+00],\n",
       "       [ 1.46396108e+00,  1.45626555e-02],\n",
       "       [-1.72790921e+00,  7.97993252e+00],\n",
       "       [-1.76218536e+00,  6.91050758e+00],\n",
       "       [ 8.15155229e-02,  4.56742235e+00],\n",
       "       [ 1.88016510e+00,  4.40768333e-01],\n",
       "       [ 1.06144198e+00,  4.11219028e+00],\n",
       "       [ 2.33812285e+00,  3.43116792e+00],\n",
       "       [ 7.28098690e-01,  3.85531444e+00],\n",
       "       [-2.69798647e+00,  2.52194722e+00],\n",
       "       [ 9.49425791e-01,  6.10879258e-01],\n",
       "       [-1.78669633e+00,  8.62294224e+00],\n",
       "       [ 1.34471770e+00,  4.85711133e+00],\n",
       "       [-1.43544144e+00,  7.33128578e+00],\n",
       "       [-1.30927414e+00,  7.84702765e+00],\n",
       "       [-1.68389128e+00,  2.80853539e+00],\n",
       "       [-2.92593322e-01,  7.68031644e+00],\n",
       "       [-2.07770688e+00,  3.06938024e+00],\n",
       "       [ 8.96541732e-01,  4.12511280e+00],\n",
       "       [ 2.72396035e-01,  5.46996004e+00],\n",
       "       [ 1.58569003e+00,  8.31430081e-01],\n",
       "       [-1.05333401e+00,  8.43373080e+00],\n",
       "       [ 2.54397941e+00,  9.33019013e-01],\n",
       "       [ 2.25861000e+00,  2.11028980e+00],\n",
       "       [ 9.17198564e-01,  3.90570036e+00],\n",
       "       [ 5.72793810e-01,  4.08805543e+00],\n",
       "       [-3.54642198e-01,  8.14824226e+00],\n",
       "       [ 1.77516019e+00,  4.75199921e-02],\n",
       "       [ 1.21833533e-01,  4.00779540e+00],\n",
       "       [-1.29305656e+00,  7.99068988e+00],\n",
       "       [ 2.39564169e+00,  7.64058600e-01],\n",
       "       [-1.03471093e+00,  3.73385139e+00],\n",
       "       [ 2.61437655e+00,  1.10164265e+00],\n",
       "       [-1.46521534e+00,  8.47421110e+00],\n",
       "       [-1.52069442e+00,  3.34990252e+00],\n",
       "       [-1.65707376e+00,  3.18511821e+00],\n",
       "       [ 1.39119333e+00,  4.72063681e+00],\n",
       "       [ 2.47153141e+00,  8.01919597e-01],\n",
       "       [ 9.94144451e-01,  1.11095274e+00],\n",
       "       [ 3.33818506e-01,  4.93645836e+00],\n",
       "       [ 2.04585825e+00,  9.94220561e-01],\n",
       "       [-1.16383196e+00,  3.45521585e+00],\n",
       "       [ 2.28490698e+00,  8.77118292e-01],\n",
       "       [-1.54836486e+00,  4.34632947e+00],\n",
       "       [-7.67857310e-01,  3.04478047e+00],\n",
       "       [ 2.61297059e+00,  1.24699841e+00],\n",
       "       [ 1.63606584e+00,  4.69694557e+00],\n",
       "       [ 2.87788887e-01,  4.04109530e+00],\n",
       "       [ 5.29417185e-01,  3.80792420e+00],\n",
       "       [ 1.34195197e+00,  5.93573847e-01],\n",
       "       [-2.10140770e+00,  9.03423366e+00],\n",
       "       [-9.62116753e-01,  7.92452976e+00],\n",
       "       [ 8.45423545e-01,  5.73990880e-01],\n",
       "       [-1.05023471e+00,  9.17102661e+00],\n",
       "       [-2.07071176e+00,  8.35485177e+00],\n",
       "       [-6.83705206e-01,  8.07858246e+00],\n",
       "       [ 1.05241733e+00,  4.54498095e+00],\n",
       "       [ 1.10550448e+00,  1.26389129e+00],\n",
       "       [ 1.59678117e+00,  3.49887757e-02],\n",
       "       [-2.22770976e+00,  7.79517952e+00],\n",
       "       [ 1.65991049e+00,  3.56289184e+00],\n",
       "       [-1.22117537e+00,  9.23923490e+00],\n",
       "       [ 1.03640403e+00,  1.13003195e+00],\n",
       "       [ 1.66382237e+00,  6.63091635e-01],\n",
       "       [-9.09542718e-01,  2.87451006e+00],\n",
       "       [-1.56120358e+00,  7.12464806e+00],\n",
       "       [-1.49203765e+00,  7.31703302e+00],\n",
       "       [ 5.32532281e-01,  5.22959608e+00],\n",
       "       [-4.53247343e-01,  7.95865955e+00],\n",
       "       [ 3.76140870e-01,  3.37692467e+00],\n",
       "       [ 3.09490023e+00,  1.30836432e+00],\n",
       "       [ 1.20212540e+00,  3.64414685e+00],\n",
       "       [-1.93682234e+00,  7.62059157e+00],\n",
       "       [-1.74932642e+00,  2.35051278e+00],\n",
       "       [-1.31712097e+00,  8.02071076e+00],\n",
       "       [-1.38601110e+00,  4.19717431e+00],\n",
       "       [-1.79918644e+00,  3.15984099e+00],\n",
       "       [ 1.06923853e+00,  4.53068484e+00],\n",
       "       [ 6.50553193e-01,  4.55341736e+00],\n",
       "       [ 1.24258802e+00,  4.50399192e+00],\n",
       "       [-7.55313609e-01,  2.01368322e+00],\n",
       "       [-1.94985682e+00,  3.32586717e+00],\n",
       "       [-1.08289537e+00,  8.69648965e+00],\n",
       "       [ 2.21997734e+00,  3.63114610e-01],\n",
       "       [ 1.14422484e+00,  4.24489709e+00],\n",
       "       [-2.69432586e+00,  2.37021216e+00],\n",
       "       [-9.14678167e-01,  8.37094435e+00],\n",
       "       [ 2.51526543e+00,  1.11143935e+00],\n",
       "       [ 1.43289271e+00,  4.37679234e+00],\n",
       "       [ 6.70478769e-01,  4.04094275e+00],\n",
       "       [ 1.47896489e+00,  4.21793242e-01],\n",
       "       [ 1.94423532e+00,  4.13074567e-01],\n",
       "       [-1.79580323e+00,  2.52827950e+00],\n",
       "       [ 2.35151259e+00,  8.28001297e-01],\n",
       "       [-1.83011900e+00,  2.42840734e+00],\n",
       "       [-2.94865616e+00,  3.43631364e+00],\n",
       "       [ 2.13979079e-01,  4.88542535e+00],\n",
       "       [-2.45716162e+00,  3.16827355e+00],\n",
       "       [-1.03255314e+00,  7.74871993e+00],\n",
       "       [ 2.57002188e+00,  1.58232478e+00],\n",
       "       [ 1.76747403e+00,  1.26987864e+00],\n",
       "       [ 1.87296081e+00,  3.06179631e+00],\n",
       "       [-2.85837783e-02,  1.57068927e+00],\n",
       "       [-4.74920358e-02,  5.47425256e+00],\n",
       "       [ 1.51000957e+00,  6.43073087e-01],\n",
       "       [ 2.54821895e+00,  9.00839248e-01],\n",
       "       [ 1.97369770e+00,  1.57979848e+00],\n",
       "       [ 7.98505679e-01,  9.71896808e-01],\n",
       "       [ 1.86922139e+00,  5.44132083e+00],\n",
       "       [ 1.81559810e+00,  1.11969719e+00],\n",
       "       [ 1.52237742e+00,  4.49411826e+00],\n",
       "       [ 2.33314572e+00,  1.06512112e+00],\n",
       "       [ 5.94762432e-01,  4.70964730e+00],\n",
       "       [ 4.38990142e-01,  4.53592883e+00],\n",
       "       [-2.26119379e+00,  7.76798043e+00],\n",
       "       [ 1.75357750e+00,  2.34513587e+00],\n",
       "       [ 2.00555933e-01,  4.46401785e+00],\n",
       "       [-8.16265537e-01,  7.17371629e+00],\n",
       "       [-9.23791624e-01,  6.74461344e+00],\n",
       "       [-1.22768985e+00,  3.54666555e+00],\n",
       "       [ 1.23202532e+00,  4.70993215e+00],\n",
       "       [ 2.51811109e+00,  1.51532696e+00],\n",
       "       [ 2.87398663e+00,  4.83994149e-01],\n",
       "       [-1.45781529e+00,  2.69039372e+00],\n",
       "       [-9.65036578e-01,  2.89682516e+00],\n",
       "       [ 8.93499638e-01,  1.01093082e+00],\n",
       "       [-9.64858535e-01,  3.76527888e+00],\n",
       "       [-1.00440648e+00,  7.71955399e+00],\n",
       "       [ 4.31891060e-01,  4.33495456e+00],\n",
       "       [ 5.17918699e-02,  4.34174452e+00],\n",
       "       [ 6.17880437e-01,  4.16103429e+00],\n",
       "       [-1.81098391e+00,  8.09532479e+00],\n",
       "       [ 1.52878537e+00,  4.49502392e+00],\n",
       "       [-2.09029296e+00,  3.52809486e+00],\n",
       "       [ 2.41008767e-01,  4.81040511e+00],\n",
       "       [-9.30889604e-01,  7.98314869e+00],\n",
       "       [-1.98422877e+00,  8.41592771e+00],\n",
       "       [ 1.16411070e+00,  3.79132988e+00],\n",
       "       [-1.21768321e+00,  6.75892245e+00],\n",
       "       [-6.90010677e-01,  7.73027017e+00],\n",
       "       [-1.88174561e+00,  3.59253377e+00],\n",
       "       [-1.51903760e+00,  7.99487280e+00],\n",
       "       [-2.79793375e+00,  7.14308980e+00],\n",
       "       [-1.31583595e+00,  3.14542358e+00],\n",
       "       [-1.41690049e+00,  3.92044808e+00],\n",
       "       [-2.23348139e+00,  2.23376448e+00],\n",
       "       [-1.17297612e+00,  2.69956698e+00],\n",
       "       [-1.54591718e+00,  7.79057703e+00],\n",
       "       [-1.02956703e+00,  8.71825319e+00],\n",
       "       [-7.94811601e-01,  7.51198043e+00],\n",
       "       [-1.49182081e+00,  8.27008112e+00],\n",
       "       [ 1.25471244e+00,  8.96331565e-02],\n",
       "       [-8.81099459e-01,  7.03056198e+00],\n",
       "       [ 1.37917204e+00,  4.59257008e-01],\n",
       "       [ 1.08272576e+00,  4.06271877e+00],\n",
       "       [ 2.96326437e+00,  1.22954290e+00],\n",
       "       [-1.07478347e+00,  8.08318251e+00],\n",
       "       [ 1.28890900e+00,  3.95831455e+00],\n",
       "       [ 7.01928984e-01,  2.84159554e-01],\n",
       "       [ 5.14320434e-01,  4.62733684e+00],\n",
       "       [ 1.81813013e+00,  2.02011350e-01],\n",
       "       [ 1.37964693e+00,  4.54826443e+00],\n",
       "       [-1.35633621e+00,  3.96348353e+00],\n",
       "       [-2.62145801e+00,  3.10004460e+00],\n",
       "       [-1.21731081e+00,  8.35582599e+00],\n",
       "       [-5.55523811e-01,  4.69595848e+00],\n",
       "       [-1.03656581e+00,  7.74379536e+00],\n",
       "       [-1.56726938e+00,  2.12684474e+00],\n",
       "       [ 5.90099037e-01,  2.96974544e+00],\n",
       "       [ 1.18734670e+00,  1.37784243e+00],\n",
       "       [-1.06325703e+00,  7.00860994e+00],\n",
       "       [-7.30234396e-01,  2.85711337e+00],\n",
       "       [ 1.21767506e+00,  3.89290127e+00],\n",
       "       [ 1.64256495e+00,  1.69217218e-01],\n",
       "       [-5.99430154e-01,  7.45663442e+00],\n",
       "       [-9.61423142e-01,  2.75732541e+00],\n",
       "       [-2.00878885e+00,  2.63927965e+00],\n",
       "       [ 4.94224280e-01,  3.89005746e+00],\n",
       "       [ 1.64486098e+00,  1.89339414e+00],\n",
       "       [ 1.49493180e+00,  3.85848832e+00],\n",
       "       [ 2.00370906e+00,  1.01423942e+00],\n",
       "       [-1.18849889e+00,  2.14715088e+00],\n",
       "       [ 2.50358052e+00,  1.84296687e-01],\n",
       "       [ 1.25566754e+00,  3.38204112e+00],\n",
       "       [ 1.07568681e+00, -4.29969746e-02],\n",
       "       [-8.28627485e-01,  7.19872664e+00],\n",
       "       [-1.25798684e+00,  3.93559121e+00],\n",
       "       [ 2.29469533e+00, -7.65891994e-01],\n",
       "       [-8.14395479e-01,  7.85022729e+00],\n",
       "       [ 1.66389136e+00,  5.84950073e-01],\n",
       "       [ 5.95676822e-01,  4.08614263e+00],\n",
       "       [-2.56829400e-01,  1.95135522e+00],\n",
       "       [ 7.90862297e-01,  3.29818504e+00],\n",
       "       [-1.56058383e+00,  2.91705124e+00],\n",
       "       [ 1.82433964e+00,  9.54274614e-01],\n",
       "       [-1.08555366e+00,  7.35456188e+00],\n",
       "       [ 1.10123507e+00,  4.88977075e+00],\n",
       "       [ 5.59529363e-01,  4.21400660e+00],\n",
       "       [-1.25541056e+00,  2.97661995e+00],\n",
       "       [ 1.36085437e+00,  7.10288309e-01],\n",
       "       [ 1.42811550e+00,  1.62435083e+00],\n",
       "       [-1.84892963e-03,  4.58145668e+00],\n",
       "       [ 5.71670482e-01,  4.32288566e+00],\n",
       "       [-1.39881598e+00,  2.19273807e+00],\n",
       "       [ 1.49036845e+00,  3.91317197e+00],\n",
       "       [-2.23439877e+00,  3.69873910e+00],\n",
       "       [-1.28146730e+00,  7.67709761e+00],\n",
       "       [ 2.17484764e+00,  8.67301535e-01],\n",
       "       [-2.87066645e+00,  3.15878169e+00],\n",
       "       [ 1.98894313e+00,  1.50976729e+00],\n",
       "       [-4.52378789e-01,  7.25669616e+00],\n",
       "       [-1.93371948e+00,  3.69658974e+00],\n",
       "       [-2.42834195e+00,  1.85128209e+00],\n",
       "       [-1.52172727e+00,  3.23408479e+00],\n",
       "       [-1.86784164e+00,  7.57341101e+00],\n",
       "       [-2.57231773e+00,  2.13593661e+00],\n",
       "       [ 2.40615694e+00,  4.87047502e+00],\n",
       "       [-1.63656463e+00,  8.11880831e+00],\n",
       "       [-1.40986219e+00,  1.84894455e+00],\n",
       "       [-1.96433081e+00,  3.03581670e+00],\n",
       "       [-1.35476132e+00,  1.52552570e+00],\n",
       "       [-1.85948979e+00,  2.63549967e+00],\n",
       "       [-1.76233741e+00,  1.09019643e+00],\n",
       "       [ 9.59360742e-01,  4.56078645e+00],\n",
       "       [-1.64888341e+00,  8.84461306e+00],\n",
       "       [ 2.53560640e+00,  9.44619765e-01],\n",
       "       [-2.48800564e+00,  2.38557370e+00],\n",
       "       [ 2.01829168e+00,  8.33280494e-01],\n",
       "       [ 1.19008992e+00,  4.72773123e+00],\n",
       "       [ 6.82095497e-01,  1.04855431e+00],\n",
       "       [-1.53581864e+00,  3.41072582e+00],\n",
       "       [-1.02772884e+00,  7.94964695e+00],\n",
       "       [ 1.68908795e+00,  4.49395289e+00],\n",
       "       [-1.07021587e+00,  8.33345171e+00],\n",
       "       [-8.18076852e-01,  2.53874001e+00],\n",
       "       [-1.46758643e+00,  8.39831554e+00],\n",
       "       [ 1.66766902e+00,  4.95155848e+00],\n",
       "       [ 1.59732444e-01,  7.06796335e+00],\n",
       "       [ 7.93137001e-03,  4.17614316e+00],\n",
       "       [-1.39153882e+00,  3.18770952e+00],\n",
       "       [-1.59319766e+00,  1.92146237e+00],\n",
       "       [-1.54766576e+00,  7.84827075e+00],\n",
       "       [-1.93928344e+00,  2.84739753e+00],\n",
       "       [-1.07366660e+00,  3.43832671e+00],\n",
       "       [-1.67211591e+00,  3.82883896e+00],\n",
       "       [-1.33440348e+00,  7.60624475e+00],\n",
       "       [ 3.09859113e+00,  1.49430029e+00],\n",
       "       [-7.91981675e-01,  2.95679593e+00],\n",
       "       [-1.50470058e+00,  3.37862371e+00],\n",
       "       [-1.73875163e+00,  6.99465164e+00],\n",
       "       [ 3.47138300e-01,  3.45177657e+00],\n",
       "       [-1.60553642e+00,  3.59773019e+00],\n",
       "       [-2.21078549e+00,  3.38885677e+00],\n",
       "       [ 1.07627418e+00,  4.68480619e+00],\n",
       "       [ 1.42249044e+00,  1.38981236e+00],\n",
       "       [-2.06412421e+00,  7.81061953e+00],\n",
       "       [-9.59586699e-01,  9.49107308e+00],\n",
       "       [ 9.14338767e-01,  4.55014643e+00]])"
      ]
     },
     "execution_count": 6,
     "metadata": {},
     "output_type": "execute_result"
    }
   ],
   "source": [
    "X"
   ]
  },
  {
   "cell_type": "code",
   "execution_count": 7,
   "metadata": {},
   "outputs": [
    {
     "data": {
      "text/plain": [
       "<matplotlib.collections.PathCollection at 0x7fa87d6db5b0>"
      ]
     },
     "execution_count": 7,
     "metadata": {},
     "output_type": "execute_result"
    },
    {
     "data": {
      "image/png": "[encoded data removed]",
      "text/plain": [
       "<Figure size 432x288 with 1 Axes>"
      ]
     },
     "metadata": {
      "needs_background": "light"
     },
     "output_type": "display_data"
    }
   ],
   "source": [
    "plt.scatter(X[:,0],X[:,1],s=50)"
   ]
  },
  {
   "cell_type": "markdown",
   "metadata": {},
   "source": [
    "À l'œil nu, il est relativement facile de repérer les quatre groupes. L'algorithme **k-means** le fait automatiquement."
   ]
  },
  {
   "cell_type": "code",
   "execution_count": 154,
   "metadata": {},
   "outputs": [
    {
     "data": {
      "text/plain": [
       "KMeans(n_clusters=4)"
      ]
     },
     "execution_count": 154,
     "metadata": {},
     "output_type": "execute_result"
    }
   ],
   "source": [
    "from sklearn.cluster import KMeans\n",
    "km = KMeans(n_clusters=4)\n",
    "km.fit(X)"
   ]
  },
  {
   "cell_type": "code",
   "execution_count": 155,
   "metadata": {},
   "outputs": [],
   "source": [
    "y_pred = km.predict(X)"
   ]
  },
  {
   "cell_type": "markdown",
   "metadata": {},
   "source": [
    "Visualisons les résultats en traçant les données colorées par ces étiquettes. Nous allons également tracer les centres de cluster tels que déterminés par l'estimateur **k-means**:"
   ]
  },
  {
   "cell_type": "code",
   "execution_count": 162,
   "metadata": {},
   "outputs": [
    {
     "data": {
      "text/plain": [
       "<matplotlib.collections.PathCollection at 0x7f53d2a24160>"
      ]
     },
     "execution_count": 162,
     "metadata": {},
     "output_type": "execute_result"
    },
    {
     "data": {
      "image/png": "[encoded data removed]",
      "text/plain": [
       "<Figure size 432x288 with 1 Axes>"
      ]
     },
     "metadata": {
      "needs_background": "light"
     },
     "output_type": "display_data"
    }
   ],
   "source": [
    "plt.scatter(X[:,0],X[:,1],s=50, c=y_pred,cmap='viridis')"
   ]
  },
  {
   "cell_type": "markdown",
   "metadata": {},
   "source": [
    "## Evaluation"
   ]
  },
  {
   "cell_type": "code",
   "execution_count": 164,
   "metadata": {},
   "outputs": [
    {
     "data": {
      "text/plain": [
       "1.0"
      ]
     },
     "execution_count": 164,
     "metadata": {},
     "output_type": "execute_result"
    }
   ],
   "source": [
    "from sklearn.metrics.cluster import adjusted_rand_score\n",
    "adjusted_rand_score(y_true,y_pred)"
   ]
  },
  {
   "cell_type": "code",
   "execution_count": null,
   "metadata": {},
   "outputs": [],
   "source": []
  }
 ],
 "metadata": {
  "kernelspec": {
   "display_name": "Python 3 (ipykernel)",
   "language": "python",
   "name": "python3"
  },
  "language_info": {
   "codemirror_mode": {
    "name": "ipython",
    "version": 3
   },
   "file_extension": ".py",
   "mimetype": "text/x-python",
   "name": "python",
   "nbconvert_exporter": "python",
   "pygments_lexer": "ipython3",
   "version": "3.9.13"
  }
 },
 "nbformat": 4,
 "nbformat_minor": 4
}
